{
 "cells": [
  {
   "cell_type": "code",
   "execution_count": 1,
   "metadata": {},
   "outputs": [],
   "source": [
    "# import\n",
    "import pandas as pd\n",
    "import numpy as np\n",
    "import matplotlib.pyplot as plt\n",
    "from sklearn.model_selection import train_test_split\n",
    "from sklearn.feature_extraction.text import CountVectorizer\n",
    "from sklearn.feature_extraction.text import TfidfVectorizer\n",
    "from sklearn.linear_model import LogisticRegression\n",
    "%matplotlib inline"
   ]
  },
  {
   "cell_type": "code",
   "execution_count": 2,
   "metadata": {},
   "outputs": [
    {
     "name": "stdout",
     "output_type": "stream",
     "text": [
      "   review_id  business_id  user_id  \\\n",
      "0       3223         2055     2533   \n",
      "1       9938         4165     6371   \n",
      "2       7123          869     4929   \n",
      "3       3601         1603     2789   \n",
      "4       3948         2347     1245   \n",
      "5       8390         3789       53   \n",
      "6       3644         1205     2813   \n",
      "7       6689          585     4484   \n",
      "8       9083         3501     5953   \n",
      "9       4178         2432     1201   \n",
      "\n",
      "                                                text        date  stars  \n",
      "0  Sometimes things happen, and when they do this...  2010-12-30      5  \n",
      "1  I know Kerrie through my networking and we ben...  2011-04-26      5  \n",
      "2  Love their pizza!!!\\nVery fresh. Their cannoli...  2012-09-28      5  \n",
      "3  Being from NJ I am always on the prowl for my ...  2009-06-07      4  \n",
      "4  We have tried this spot a few times and each v...  2011-02-20      4  \n",
      "5  This HD is very good.  They seem to have knowl...  2012-05-28      4  \n",
      "6  I was initially going to give Riva's 3-stars, ...  2008-02-27      5  \n",
      "7  Chino Bandido is a staple for my sister and I....  2012-05-29      5  \n",
      "8  Food--The fire roasted garlic tomato soup is e...  2008-06-06      5  \n",
      "9  Fancy ladies with a few gays sprinkled in. Thi...  2011-09-01      4  \n"
     ]
    }
   ],
   "source": [
    "data1=pd.read_csv(\"training_data.csv\")\n",
    "print(data1[:10])\n",
    "data2=pd.read_csv(\"test_data.csv\")"
   ]
  },
  {
   "cell_type": "code",
   "execution_count": 3,
   "metadata": {},
   "outputs": [],
   "source": [
    "train_X=data1[\"text\"]\n",
    "train_Y=data1[\"stars\"]\n",
    "test_X=data2[\"text\"]"
   ]
  },
  {
   "cell_type": "code",
   "execution_count": 4,
   "metadata": {},
   "outputs": [
    {
     "data": {
      "text/plain": [
       "<7997x7839 sparse matrix of type '<class 'numpy.float64'>'\n",
       "\twith 629504 stored elements in Compressed Sparse Row format>"
      ]
     },
     "execution_count": 4,
     "metadata": {},
     "output_type": "execute_result"
    }
   ],
   "source": [
    "vectorizer=TfidfVectorizer(stop_words=\"english\",min_df=5)\n",
    "vectorizer.fit(train_X)\n",
    "np.set_printoptions(precision=2)\n",
    "train_X=vectorizer.transform(train_X)\n",
    "test_X=vectorizer.transform(test_X)\n",
    "train_X"
   ]
  },
  {
   "cell_type": "code",
   "execution_count": 5,
   "metadata": {},
   "outputs": [],
   "source": [
    "clf=LogisticRegression()\n",
    "clf.fit(train_X,train_Y)\n",
    "test_Y=clf.predict(test_X)\n",
    "test_Y=pd.Series(test_Y,index=data2[\"review_id\"])"
   ]
  },
  {
   "cell_type": "code",
   "execution_count": 6,
   "metadata": {},
   "outputs": [],
   "source": [
    "test_Y.to_csv(\"test_output.csv\")"
   ]
  },
  {
   "cell_type": "code",
   "execution_count": null,
   "metadata": {},
   "outputs": [],
   "source": []
  }
 ],
 "metadata": {
  "kernelspec": {
   "display_name": "Python 3",
   "language": "python",
   "name": "python3"
  },
  "language_info": {
   "codemirror_mode": {
    "name": "ipython",
    "version": 3
   },
   "file_extension": ".py",
   "mimetype": "text/x-python",
   "name": "python",
   "nbconvert_exporter": "python",
   "pygments_lexer": "ipython3",
   "version": "3.6.2"
  }
 },
 "nbformat": 4,
 "nbformat_minor": 2
}
