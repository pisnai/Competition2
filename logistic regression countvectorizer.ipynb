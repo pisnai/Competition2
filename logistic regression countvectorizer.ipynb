{
 "cells": [
  {
   "cell_type": "code",
   "execution_count": 1,
   "metadata": {},
   "outputs": [],
   "source": [
    "# import\n",
    "import pandas as pd\n",
    "import numpy as np\n",
    "import matplotlib.pyplot as plt\n",
    "from sklearn.model_selection import train_test_split\n",
    "from sklearn.feature_extraction.text import CountVectorizer\n",
    "from sklearn.feature_extraction.text import TfidfVectorizer\n",
    "from sklearn.linear_model import LogisticRegression\n",
    "from sklearn.tree import DecisionTreeClassifier\n",
    "%matplotlib inline"
   ]
  },
  {
   "cell_type": "code",
   "execution_count": 2,
   "metadata": {
    "scrolled": true
   },
   "outputs": [
    {
     "name": "stdout",
     "output_type": "stream",
     "text": [
      "   review_id  business_id  user_id  \\\n",
      "0       3223         2055     2533   \n",
      "1       9938         4165     6371   \n",
      "2       7123          869     4929   \n",
      "3       3601         1603     2789   \n",
      "4       3948         2347     1245   \n",
      "5       8390         3789       53   \n",
      "6       3644         1205     2813   \n",
      "7       6689          585     4484   \n",
      "8       9083         3501     5953   \n",
      "9       4178         2432     1201   \n",
      "\n",
      "                                                text        date  stars  \n",
      "0  Sometimes things happen, and when they do this...  2010-12-30      5  \n",
      "1  I know Kerrie through my networking and we ben...  2011-04-26      5  \n",
      "2  Love their pizza!!!\\nVery fresh. Their cannoli...  2012-09-28      5  \n",
      "3  Being from NJ I am always on the prowl for my ...  2009-06-07      4  \n",
      "4  We have tried this spot a few times and each v...  2011-02-20      4  \n",
      "5  This HD is very good.  They seem to have knowl...  2012-05-28      4  \n",
      "6  I was initially going to give Riva's 3-stars, ...  2008-02-27      5  \n",
      "7  Chino Bandido is a staple for my sister and I....  2012-05-29      5  \n",
      "8  Food--The fire roasted garlic tomato soup is e...  2008-06-06      5  \n",
      "9  Fancy ladies with a few gays sprinkled in. Thi...  2011-09-01      4  \n"
     ]
    }
   ],
   "source": [
    "data1=pd.read_csv(\"training_data.csv\")\n",
    "print(data1[:10])\n",
    "data2=pd.read_csv(\"test_data.csv\")"
   ]
  },
  {
   "cell_type": "code",
   "execution_count": 3,
   "metadata": {},
   "outputs": [],
   "source": [
    "text1=data1[\"text\"]\n",
    "train_Y=data1[\"stars\"]\n",
    "text2=data2[\"text\"]"
   ]
  },
  {
   "cell_type": "code",
   "execution_count": null,
   "metadata": {},
   "outputs": [],
   "source": [
    "n=0\n",
    "for i in text1:\n",
    "    i=i.replace(\"0\",\"\")\n",
    "    i=i.replace(\"1\",\"\")\n",
    "    i=i.replace(\"2\",\"\")\n",
    "    i=i.replace(\"3\",\"\")\n",
    "    i=i.replace(\"4\",\"\")\n",
    "    i=i.replace(\"5\",\"\")\n",
    "    i=i.replace(\"6\",\"\")\n",
    "    i=i.replace(\"7\",\"\")\n",
    "    i=i.replace(\"8\",\"\")\n",
    "    i=i.replace(\"9\",\"\")\n",
    "    text1[n]=i\n",
    "    n=n+1\n",
    "n=0\n",
    "for i in text2:\n",
    "    i=i.replace(\"0\",\"\")\n",
    "    i=i.replace(\"1\",\"\")\n",
    "    i=i.replace(\"2\",\"\")\n",
    "    i=i.replace(\"3\",\"\")\n",
    "    i=i.replace(\"4\",\"\")\n",
    "    i=i.replace(\"5\",\"\")\n",
    "    i=i.replace(\"6\",\"\")\n",
    "    i=i.replace(\"7\",\"\")\n",
    "    i=i.replace(\"8\",\"\")\n",
    "    i=i.replace(\"9\",\"\")\n",
    "    text2[n]=i\n",
    "    n=n+1"
   ]
  },
  {
   "cell_type": "code",
   "execution_count": null,
   "metadata": {},
   "outputs": [],
   "source": [
    "vectorizer=CountVectorizer(stop_words=\"english\",min_df=5)\n",
    "vectorizer.fit(text1)\n",
    "np.set_printoptions(precision=2)\n",
    "train_Xc=vectorizer.transform(text1)\n",
    "test_Xc=vectorizer.transform(text2)"
   ]
  },
  {
   "cell_type": "code",
   "execution_count": null,
   "metadata": {},
   "outputs": [],
   "source": [
    "vectorizer=TfidfVectorizer(stop_words=\"english\",min_df=5)\n",
    "vectorizer.fit(text1)\n",
    "np.set_printoptions(precision=2)\n",
    "train_Xt=vectorizer.transform(text1)\n",
    "test_Xt=vectorizer.transform(text2)"
   ]
  },
  {
   "cell_type": "code",
   "execution_count": null,
   "metadata": {
    "scrolled": true
   },
   "outputs": [],
   "source": [
    "# train_X=pd.DataFrame(train_X,columns=vectorizer.get_feature_names())\n",
    "# train_X[\"review_id\"]=data1[\"review_id\"]\n",
    "# train_X[\"business_id\"]=data1[\"business_id\"]\n",
    "# train_X[\"user_id\"]=data1[\"user_id\"]\n",
    "# train_X"
   ]
  },
  {
   "cell_type": "code",
   "execution_count": null,
   "metadata": {},
   "outputs": [],
   "source": [
    "clf=LogisticRegression()\n",
    "clf.fit(train_Xc,train_Y)\n",
    "lr_test_Yc=clf.predict(test_Xc)\n",
    "lr_test_Yc=pd.Series(lr_test_Yc,index=data2[\"review_id\"])"
   ]
  },
  {
   "cell_type": "code",
   "execution_count": null,
   "metadata": {},
   "outputs": [],
   "source": [
    "clf.fit(train_Xt,train_Y)\n",
    "lr_test_Yt=clf.predict(test_Xt)\n",
    "lr_test_Yt=pd.Series(lr_test_Yt,index=data2[\"review_id\"])"
   ]
  },
  {
   "cell_type": "code",
   "execution_count": null,
   "metadata": {},
   "outputs": [],
   "source": [
    "clf=DecisionTreeClassifier()\n",
    "clf.fit(train_Xc,train_Y)\n",
    "dtc_test_Yc=clf.predict(test_Xc)\n",
    "dtc_test_Yc=pd.Series(dtc_test_Yc,index=data2[\"review_id\"])"
   ]
  },
  {
   "cell_type": "code",
   "execution_count": null,
   "metadata": {},
   "outputs": [],
   "source": [
    "clf.fit(train_Xt,train_Y)\n",
    "dtc_test_Yt=clf.predict(test_Xt)\n",
    "dtc_test_Yt=pd.Series(dtc_test_Yt,index=data2[\"review_id\"])"
   ]
  },
  {
   "cell_type": "code",
   "execution_count": null,
   "metadata": {},
   "outputs": [],
   "source": [
    "test_Y=lr_test_Yc*0.25+lr_test_Yt*0.25+dtc_test_Yc*0.25+dtc_test_Yt*0.25"
   ]
  },
  {
   "cell_type": "code",
   "execution_count": null,
   "metadata": {},
   "outputs": [],
   "source": [
    "test_Y.to_csv(\"test_output.csv\")"
   ]
  },
  {
   "cell_type": "code",
   "execution_count": null,
   "metadata": {},
   "outputs": [],
   "source": [
    "# from sklearn.model_selection import cross_val_score\n",
    "# scores=cross_val_scores(clf,train_X,train_Y,cv=5)\n",
    "# print(scores)"
   ]
  }
 ],
 "metadata": {
  "kernelspec": {
   "display_name": "Python 3",
   "language": "python",
   "name": "python3"
  },
  "language_info": {
   "codemirror_mode": {
    "name": "ipython",
    "version": 3
   },
   "file_extension": ".py",
   "mimetype": "text/x-python",
   "name": "python",
   "nbconvert_exporter": "python",
   "pygments_lexer": "ipython3",
   "version": "3.6.2"
  }
 },
 "nbformat": 4,
 "nbformat_minor": 2
}
